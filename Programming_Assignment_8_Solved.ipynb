{
  "cells": [
    {
      "cell_type": "markdown",
      "id": "9b304197",
      "metadata": {
        "id": "9b304197"
      },
      "source": [
        "# Python Basic Programming Assignment 8"
      ]
    },
    {
      "cell_type": "markdown",
      "id": "22789ae6",
      "metadata": {
        "id": "22789ae6"
      },
      "source": [
        "### 1. Write a Python Program to Add Two Matrices?"
      ]
    },
    {
      "cell_type": "code",
      "source": [
        "def add_matrices(matrix1, matrix2):\n",
        "    rows = len(matrix1)\n",
        "    columns = len(matrix1[0])\n",
        "\n",
        "    if rows != len(matrix2) or columns != len(matrix2[0]):\n",
        "        return None\n",
        "\n",
        "    result = []\n",
        "    for i in range(rows):\n",
        "        row = []\n",
        "        for j in range(columns):\n",
        "            row.append(matrix1[i][j] + matrix2[i][j])\n",
        "        result.append(row)\n",
        "\n",
        "    return result"
      ],
      "metadata": {
        "id": "Zx0st08gekpE"
      },
      "id": "Zx0st08gekpE",
      "execution_count": 1,
      "outputs": []
    },
    {
      "cell_type": "code",
      "source": [
        "matrix1 = [[1, 2, 3], [4, 5, 6], [7, 8, 9]]\n",
        "matrix2 = [[9, 8, 7], [6, 5, 4], [3, 2, 1]]\n",
        "\n",
        "result = add_matrices(matrix1, matrix2)\n",
        "if result is None:\n",
        "    print(\"Cannot add matrices. They have different dimensions.\")\n",
        "else:\n",
        "    for row in result:\n",
        "        print(row)"
      ],
      "metadata": {
        "colab": {
          "base_uri": "https://localhost:8080/"
        },
        "id": "qvdQu0nme7-B",
        "outputId": "10803157-4148-4190-c8ef-d1d270879cdb"
      },
      "id": "qvdQu0nme7-B",
      "execution_count": 2,
      "outputs": [
        {
          "output_type": "stream",
          "name": "stdout",
          "text": [
            "[10, 10, 10]\n",
            "[10, 10, 10]\n",
            "[10, 10, 10]\n"
          ]
        }
      ]
    },
    {
      "cell_type": "markdown",
      "id": "044ceda6",
      "metadata": {
        "id": "044ceda6"
      },
      "source": [
        "### 2. Write a Python Program to Multiply Two Matrices?"
      ]
    },
    {
      "cell_type": "code",
      "source": [
        "def multiply_matrices(matrix1, matrix2):\n",
        "    rows1 = len(matrix1)\n",
        "    columns1 = len(matrix1[0])\n",
        "    rows2 = len(matrix2)\n",
        "    columns2 = len(matrix2[0])\n",
        "\n",
        "    if columns1 != rows2:\n",
        "        return None\n",
        "\n",
        "    result = [[0 for _ in range(columns2)] for _ in range(rows1)]\n",
        "    for i in range(rows1):\n",
        "        for j in range(columns2):\n",
        "            for k in range(columns1):\n",
        "                result[i][j] += matrix1[i][k] * matrix2[k][j]\n",
        "\n",
        "    return result"
      ],
      "metadata": {
        "id": "c8BYaedCfJoq"
      },
      "id": "c8BYaedCfJoq",
      "execution_count": 3,
      "outputs": []
    },
    {
      "cell_type": "code",
      "source": [
        "matrix1 = [[1, 2, 3], [4, 5, 6]]\n",
        "matrix2 = [[7, 8], [9, 10], [11, 12]]\n",
        "\n",
        "result = multiply_matrices(matrix1, matrix2)\n",
        "if result is None:\n",
        "    print(\"Cannot multiply matrices. Incompatible dimensions.\")\n",
        "else:\n",
        "    for row in result:\n",
        "        print(row)"
      ],
      "metadata": {
        "colab": {
          "base_uri": "https://localhost:8080/"
        },
        "id": "3tUXfbNAfepU",
        "outputId": "267f190c-2919-42e3-b48a-c4a0d4cae333"
      },
      "id": "3tUXfbNAfepU",
      "execution_count": 4,
      "outputs": [
        {
          "output_type": "stream",
          "name": "stdout",
          "text": [
            "[58, 64]\n",
            "[139, 154]\n"
          ]
        }
      ]
    },
    {
      "cell_type": "markdown",
      "id": "5f688e46",
      "metadata": {
        "id": "5f688e46"
      },
      "source": [
        "### 3. Write a Python Program to Transpose a Matrix?"
      ]
    },
    {
      "cell_type": "code",
      "source": [
        "def transpose_matrix(matrix):\n",
        "    rows = len(matrix)\n",
        "    columns = len(matrix[0])\n",
        "\n",
        "    # Create an empty matrix with switched dimensions\n",
        "    result = [[0 for _ in range(rows)] for _ in range(columns)]\n",
        "\n",
        "    # Copy elements from original matrix to transposed matrix\n",
        "    for i in range(rows):\n",
        "        for j in range(columns):\n",
        "            result[j][i] = matrix[i][j]\n",
        "\n",
        "    return result"
      ],
      "metadata": {
        "id": "c7YA6wTlfh_D"
      },
      "id": "c7YA6wTlfh_D",
      "execution_count": 5,
      "outputs": []
    },
    {
      "cell_type": "code",
      "source": [
        "matrix = [[1, 2, 3], [4, 5, 6], [7, 8, 9]]\n",
        "\n",
        "result = transpose_matrix(matrix)\n",
        "for row in result:\n",
        "    print(row)"
      ],
      "metadata": {
        "colab": {
          "base_uri": "https://localhost:8080/"
        },
        "id": "LD_STMyBfq6B",
        "outputId": "96961662-ada3-4b66-d7ad-676aa9c59293"
      },
      "id": "LD_STMyBfq6B",
      "execution_count": 6,
      "outputs": [
        {
          "output_type": "stream",
          "name": "stdout",
          "text": [
            "[1, 4, 7]\n",
            "[2, 5, 8]\n",
            "[3, 6, 9]\n"
          ]
        }
      ]
    },
    {
      "cell_type": "markdown",
      "id": "b2849025",
      "metadata": {
        "id": "b2849025"
      },
      "source": [
        "\n",
        "### 4. Write a Python Program to Sort Words in Alphabetic Order?\n"
      ]
    },
    {
      "cell_type": "code",
      "source": [
        "def sort_words_in_sentence(sentence):\n",
        "    words = sentence.split()\n",
        "    sorted_words = sorted(words) \n",
        "    return sorted_words"
      ],
      "metadata": {
        "id": "yC8M40zqfsZk"
      },
      "id": "yC8M40zqfsZk",
      "execution_count": 7,
      "outputs": []
    },
    {
      "cell_type": "code",
      "source": [
        "sentence = \"Sen Aditya\"\n",
        "\n",
        "sorted_words = sort_words_in_sentence(sentence)\n",
        "sorted(sorted_words)"
      ],
      "metadata": {
        "colab": {
          "base_uri": "https://localhost:8080/"
        },
        "id": "03Ljai-HgFX0",
        "outputId": "93797976-96d9-4e32-cabc-84e293887d9b"
      },
      "id": "03Ljai-HgFX0",
      "execution_count": 13,
      "outputs": [
        {
          "output_type": "execute_result",
          "data": {
            "text/plain": [
              "['Aditya', 'Sen']"
            ]
          },
          "metadata": {},
          "execution_count": 13
        }
      ]
    },
    {
      "cell_type": "markdown",
      "id": "48ac7b24",
      "metadata": {
        "id": "48ac7b24"
      },
      "source": [
        "### 5. Write a Python Program to Remove Punctuation From a String?"
      ]
    },
    {
      "cell_type": "code",
      "source": [
        "import string\n",
        "\n",
        "def remove_punctuation(input_string):\n",
        "    translation_table = str.maketrans(\"\", \"\", string.punctuation)\n",
        "    np = input_string.translate(translation_table)\n",
        "    return np"
      ],
      "metadata": {
        "id": "kuScXbKkgEw0"
      },
      "id": "kuScXbKkgEw0",
      "execution_count": 16,
      "outputs": []
    },
    {
      "cell_type": "code",
      "source": [
        "remove_punctuation(\"Hello World!!\")"
      ],
      "metadata": {
        "colab": {
          "base_uri": "https://localhost:8080/",
          "height": 36
        },
        "id": "4ZvqYqSGh3j5",
        "outputId": "692710eb-a23b-4c7d-e747-35dc2d1d90a3"
      },
      "id": "4ZvqYqSGh3j5",
      "execution_count": 17,
      "outputs": [
        {
          "output_type": "execute_result",
          "data": {
            "text/plain": [
              "'Hello World'"
            ],
            "application/vnd.google.colaboratory.intrinsic+json": {
              "type": "string"
            }
          },
          "metadata": {},
          "execution_count": 17
        }
      ]
    }
  ],
  "metadata": {
    "kernelspec": {
      "display_name": "Python 3 (ipykernel)",
      "language": "python",
      "name": "python3"
    },
    "language_info": {
      "codemirror_mode": {
        "name": "ipython",
        "version": 3
      },
      "file_extension": ".py",
      "mimetype": "text/x-python",
      "name": "python",
      "nbconvert_exporter": "python",
      "pygments_lexer": "ipython3",
      "version": "3.9.12"
    },
    "colab": {
      "provenance": []
    }
  },
  "nbformat": 4,
  "nbformat_minor": 5
}
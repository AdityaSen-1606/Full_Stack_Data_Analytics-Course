{
  "cells": [
    {
      "cell_type": "markdown",
      "id": "08c66ea5",
      "metadata": {
        "id": "08c66ea5"
      },
      "source": [
        "## Programming Assignment_2\n",
        "-------------"
      ]
    },
    {
      "cell_type": "markdown",
      "id": "4e50cf42",
      "metadata": {
        "id": "4e50cf42"
      },
      "source": [
        "###1. Write a Python program to convert kilometers to miles?\n"
      ]
    },
    {
      "cell_type": "code",
      "source": [
        "Dis_k = float(input(\"Enter Distance in kilometer: \"))\n",
        "\n",
        "#conversion factor is 0.621371\n",
        "\n",
        "print(\"%0.2f kilometers equals to %0.2f miles\"%(Dis_k,Dis_k*0.621371))"
      ],
      "metadata": {
        "colab": {
          "base_uri": "https://localhost:8080/"
        },
        "id": "wHUbga0fFNHc",
        "outputId": "eb685358-77d9-404c-ffee-cfa3df03a2af"
      },
      "id": "wHUbga0fFNHc",
      "execution_count": null,
      "outputs": [
        {
          "output_type": "stream",
          "name": "stdout",
          "text": [
            "Enter Distance in kilometer: 5\n",
            "5.00 kilometer equals to 3.11 mile\n"
          ]
        }
      ]
    },
    {
      "cell_type": "markdown",
      "id": "0df4e6bf",
      "metadata": {
        "id": "0df4e6bf"
      },
      "source": [
        "### 2.Write a Python program to convert Celsius to Fahrenheit?"
      ]
    },
    {
      "cell_type": "code",
      "source": [
        "Deg=float(input(\"Enter temperature in degree celsius\"))\n",
        "\n",
        "# conversion factor 1.8 with addition of 32\n",
        "\n",
        "print(\"%0.2f in degree celsius equals to %0.2f in fahrenhit\"%(Deg,Deg*1.8+32))"
      ],
      "metadata": {
        "colab": {
          "base_uri": "https://localhost:8080/"
        },
        "id": "6he965q1Geys",
        "outputId": "18f091e8-d980-4198-f8cb-e8ee59e5601f"
      },
      "id": "6he965q1Geys",
      "execution_count": null,
      "outputs": [
        {
          "output_type": "stream",
          "name": "stdout",
          "text": [
            "Enter temperature in degree celsius37\n",
            "37.00 in degree celsius equals to 98.60 in fahrenhit\n"
          ]
        }
      ]
    },
    {
      "cell_type": "markdown",
      "id": "46129b8e",
      "metadata": {
        "id": "46129b8e"
      },
      "source": [
        "###3. Write a Python program to display calendar?\n"
      ]
    },
    {
      "cell_type": "code",
      "source": [
        "import calendar\n",
        "\n",
        "year=int(input(\"Enter year\"))\n",
        "month=int(input(\"Enter month\"))\n",
        "print(\"Calendar: \")\n",
        "print(calendar.month(year,month))"
      ],
      "metadata": {
        "colab": {
          "base_uri": "https://localhost:8080/"
        },
        "id": "9v-qdKtQH3am",
        "outputId": "eaf2b102-ef40-4992-c9e4-caeaea33c179"
      },
      "id": "9v-qdKtQH3am",
      "execution_count": null,
      "outputs": [
        {
          "output_type": "stream",
          "name": "stdout",
          "text": [
            "Enter year2023\n",
            "Enter month5\n",
            "Calendar: \n",
            "      May 2023\n",
            "Mo Tu We Th Fr Sa Su\n",
            " 1  2  3  4  5  6  7\n",
            " 8  9 10 11 12 13 14\n",
            "15 16 17 18 19 20 21\n",
            "22 23 24 25 26 27 28\n",
            "29 30 31\n",
            "\n"
          ]
        }
      ]
    },
    {
      "cell_type": "markdown",
      "id": "db2bf0f7",
      "metadata": {
        "id": "db2bf0f7"
      },
      "source": [
        "### 4. Write a Python program to solve quadratic equation?"
      ]
    },
    {
      "cell_type": "code",
      "source": [
        "print(\"In general equation: ax2+bx+c\")\n",
        "a=float(input(\"Enter a: \"))\n",
        "b=float(input(\"Enter b: \"))\n",
        "c=float(input(\"Enter c: \"))\n",
        "D=(b**2)-(4*a*c)\n",
        "if D<0:\n",
        "  print(\"imaginary roots\")\n",
        "else:\n",
        "  print(\"Roots of equation is %0.2f and %0.2f\"%((-b+(D**0.5))/(2*a),(-b-(D**0.5))/(2*a)))"
      ],
      "metadata": {
        "colab": {
          "base_uri": "https://localhost:8080/"
        },
        "id": "tKIoimtbIccF",
        "outputId": "8d731e4a-ed92-4b12-bd4c-3eeb29b800cb"
      },
      "id": "tKIoimtbIccF",
      "execution_count": null,
      "outputs": [
        {
          "output_type": "stream",
          "name": "stdout",
          "text": [
            "In general equation: ax2+bx+c\n",
            "Enter a: 1\n",
            "Enter b: 4\n",
            "Enter c: 4\n",
            "Roots of equation is -2.00 and -2.00\n"
          ]
        }
      ]
    },
    {
      "cell_type": "markdown",
      "id": "f70f74c9",
      "metadata": {
        "id": "f70f74c9"
      },
      "source": [
        "###5. Write a Python program to swap two variables without temp variable?"
      ]
    },
    {
      "cell_type": "code",
      "source": [
        "a=input(\"Enter number a: \")\n",
        "b=input(\"Enter number b: \")\n",
        "a,b=b,a\n",
        "print(f\"a = {a} and b = {b}\")"
      ],
      "metadata": {
        "id": "GqTgaeggLC6X",
        "colab": {
          "base_uri": "https://localhost:8080/"
        },
        "outputId": "209aa586-b12b-4532-d2a3-2538882b3d2f"
      },
      "id": "GqTgaeggLC6X",
      "execution_count": 1,
      "outputs": [
        {
          "output_type": "stream",
          "name": "stdout",
          "text": [
            "Enter number a: 5\n",
            "Enter number b: 4\n",
            "a = 4 and b = 5\n"
          ]
        }
      ]
    }
  ],
  "metadata": {
    "kernelspec": {
      "display_name": "Python 3 (ipykernel)",
      "language": "python",
      "name": "python3"
    },
    "language_info": {
      "codemirror_mode": {
        "name": "ipython",
        "version": 3
      },
      "file_extension": ".py",
      "mimetype": "text/x-python",
      "name": "python",
      "nbconvert_exporter": "python",
      "pygments_lexer": "ipython3",
      "version": "3.9.12"
    },
    "colab": {
      "provenance": []
    }
  },
  "nbformat": 4,
  "nbformat_minor": 5
}
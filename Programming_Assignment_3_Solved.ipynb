{
  "cells": [
    {
      "cell_type": "markdown",
      "id": "ad3c798a",
      "metadata": {
        "id": "ad3c798a"
      },
      "source": [
        "## Programming Assignment_3\n",
        "----------------"
      ]
    },
    {
      "cell_type": "markdown",
      "id": "fdeb4706",
      "metadata": {
        "id": "fdeb4706"
      },
      "source": [
        "### 1. Write a Python Program to Check if a Number is Positive, Negative or Zero?"
      ]
    },
    {
      "cell_type": "code",
      "source": [
        "a=int(input(\"Enter number: \"))\n",
        "if a<0:\n",
        "  print(\"Negative\")\n",
        "elif a>0:\n",
        "  print(\"Positive\")\n",
        "else:\n",
        "  print(\"Zero\")"
      ],
      "metadata": {
        "colab": {
          "base_uri": "https://localhost:8080/"
        },
        "id": "r5HxzjONRP8V",
        "outputId": "f9c54cdd-1e3b-4f6d-855b-6b212d5f61b6"
      },
      "id": "r5HxzjONRP8V",
      "execution_count": 1,
      "outputs": [
        {
          "output_type": "stream",
          "name": "stdout",
          "text": [
            "Enter number: 8\n",
            "Positive\n"
          ]
        }
      ]
    },
    {
      "cell_type": "markdown",
      "id": "086bfded",
      "metadata": {
        "id": "086bfded"
      },
      "source": [
        "### 2. Write a Python Program to Check if a Number is Odd or Even?\n"
      ]
    },
    {
      "cell_type": "code",
      "source": [
        "a=float(input(\"Enter number: \"))\n",
        "if a%2==0:\n",
        "  print(\"Entered number is even\")\n",
        "else:\n",
        "  print(\"Entered number is odd\")"
      ],
      "metadata": {
        "colab": {
          "base_uri": "https://localhost:8080/"
        },
        "id": "aYQMwiZvRqD-",
        "outputId": "66ad23f9-63df-4c71-e208-eaf7463759a0"
      },
      "id": "aYQMwiZvRqD-",
      "execution_count": 2,
      "outputs": [
        {
          "output_type": "stream",
          "name": "stdout",
          "text": [
            "Enter number: 52\n",
            "Entered number is even\n"
          ]
        }
      ]
    },
    {
      "cell_type": "markdown",
      "id": "575e4f94",
      "metadata": {
        "id": "575e4f94"
      },
      "source": [
        "### 3. Write a Python Program to Check Leap Year?\n"
      ]
    },
    {
      "cell_type": "code",
      "source": [
        "a=int(input(\"Enter year: \"))\n",
        "if a%4==0:\n",
        "  print(\"Leap Year\")\n",
        "else:\n",
        "  print(\"Non-Leap Year\")"
      ],
      "metadata": {
        "colab": {
          "base_uri": "https://localhost:8080/"
        },
        "id": "PNz-qB7oUC32",
        "outputId": "94d0223d-21c9-4c8e-8172-bcf352f4a9b5"
      },
      "id": "PNz-qB7oUC32",
      "execution_count": 5,
      "outputs": [
        {
          "output_type": "stream",
          "name": "stdout",
          "text": [
            "Enter year: 2002\n",
            "Non-Leap Year\n"
          ]
        }
      ]
    },
    {
      "cell_type": "markdown",
      "id": "aa83ce63",
      "metadata": {
        "id": "aa83ce63"
      },
      "source": [
        "### 4. Write a Python Program to Check Prime Number?"
      ]
    },
    {
      "cell_type": "code",
      "source": [
        "import math\n",
        "a=float(input(\"Enter number: \"))\n",
        "flag=False\n",
        "for i in range(2,int(a**0.5)+1,1):\n",
        "  if a%i==0:\n",
        "    print(\"Non-Prime Number\")\n",
        "    flag=True\n",
        "    break\n",
        "if flag==False:\n",
        "  print(\"Prime Number\")"
      ],
      "metadata": {
        "colab": {
          "base_uri": "https://localhost:8080/"
        },
        "id": "cOH8HkLDUyHy",
        "outputId": "566d6e4d-9b45-45a0-864b-8a978c614a38"
      },
      "id": "cOH8HkLDUyHy",
      "execution_count": 36,
      "outputs": [
        {
          "output_type": "stream",
          "name": "stdout",
          "text": [
            "Enter number: 4\n",
            "Non-Prime Number\n"
          ]
        }
      ]
    },
    {
      "cell_type": "markdown",
      "id": "b44b54ff",
      "metadata": {
        "id": "b44b54ff"
      },
      "source": [
        "### 5. Write a Python Program to Print all Prime Numbers in an Interval of 1-10000?"
      ]
    },
    {
      "cell_type": "code",
      "source": [
        "import numpy as np\n",
        "def isPrime(a):\n",
        "  for i in range(2,int(a**0.5)+1,1):\n",
        "    if(a%i==0):\n",
        "      return False\n",
        "  return True\n",
        "ans=[]\n",
        "for i in range(2,10000):\n",
        "  if(isPrime(i)==True):\n",
        "    ans.append(i)\n",
        "ans=np.array(ans)\n",
        "len(ans)"
      ],
      "metadata": {
        "colab": {
          "base_uri": "https://localhost:8080/"
        },
        "id": "UWx4tzMvoBUF",
        "outputId": "b6f72f87-a05e-4eda-cef3-736cad9ad57e"
      },
      "id": "UWx4tzMvoBUF",
      "execution_count": 40,
      "outputs": [
        {
          "output_type": "execute_result",
          "data": {
            "text/plain": [
              "1229"
            ]
          },
          "metadata": {},
          "execution_count": 40
        }
      ]
    }
  ],
  "metadata": {
    "kernelspec": {
      "display_name": "Python 3 (ipykernel)",
      "language": "python",
      "name": "python3"
    },
    "language_info": {
      "codemirror_mode": {
        "name": "ipython",
        "version": 3
      },
      "file_extension": ".py",
      "mimetype": "text/x-python",
      "name": "python",
      "nbconvert_exporter": "python",
      "pygments_lexer": "ipython3",
      "version": "3.9.12"
    },
    "colab": {
      "provenance": []
    }
  },
  "nbformat": 4,
  "nbformat_minor": 5
}
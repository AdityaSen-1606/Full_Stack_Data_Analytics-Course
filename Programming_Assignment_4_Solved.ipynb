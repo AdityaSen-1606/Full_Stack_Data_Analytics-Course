{
  "cells": [
    {
      "cell_type": "markdown",
      "id": "20cb4340",
      "metadata": {
        "id": "20cb4340"
      },
      "source": [
        "## Programming Assignment_4\n",
        "----------------"
      ]
    },
    {
      "cell_type": "markdown",
      "id": "4fdb6695",
      "metadata": {
        "id": "4fdb6695"
      },
      "source": [
        "### 1. Write a Python Program to Find the Factorial of a Number?"
      ]
    },
    {
      "cell_type": "code",
      "source": [
        "a=int(input(\"Enter number: \"))\n",
        "def fact(n):\n",
        "  if n<=0:\n",
        "    return 1\n",
        "  else:\n",
        "    return n*fact(n-1)\n",
        "print(f\"Factorial of a number {a} is {fact(a)}\")"
      ],
      "metadata": {
        "colab": {
          "base_uri": "https://localhost:8080/"
        },
        "id": "hnz5NSQQx8DD",
        "outputId": "321f22d7-e9f3-461d-ffe6-57fe47e53d4e"
      },
      "id": "hnz5NSQQx8DD",
      "execution_count": null,
      "outputs": [
        {
          "output_type": "stream",
          "name": "stdout",
          "text": [
            "Enter number: 5\n",
            "Factorial of a number 5 is 120\n"
          ]
        }
      ]
    },
    {
      "cell_type": "markdown",
      "id": "e6beef62",
      "metadata": {
        "id": "e6beef62"
      },
      "source": [
        "### 2. Write a Python Program to Display the multiplication Table?"
      ]
    },
    {
      "cell_type": "code",
      "source": [
        "a = int(input(\"Enter number: \"))\n",
        "def mt(a):\n",
        "  for i in range(1,11):\n",
        "    print(f\"{a} x {i} = {a*i}\")\n",
        "print(f\"Multiplication table of number {a} is\")\n",
        "print(mt(a))"
      ],
      "metadata": {
        "id": "KRlnRPqETMOx",
        "colab": {
          "base_uri": "https://localhost:8080/"
        },
        "outputId": "6abecef1-5167-4892-d27c-97b9d80fee00"
      },
      "id": "KRlnRPqETMOx",
      "execution_count": null,
      "outputs": [
        {
          "output_type": "stream",
          "name": "stdout",
          "text": [
            "Enter number: 7\n",
            "Multiplication table of number 7 is\n",
            "7 x 1 = 7\n",
            "7 x 2 = 14\n",
            "7 x 3 = 21\n",
            "7 x 4 = 28\n",
            "7 x 5 = 35\n",
            "7 x 6 = 42\n",
            "7 x 7 = 49\n",
            "7 x 8 = 56\n",
            "7 x 9 = 63\n",
            "7 x 10 = 70\n",
            "None\n"
          ]
        }
      ]
    },
    {
      "cell_type": "markdown",
      "id": "7de7eba5",
      "metadata": {
        "id": "7de7eba5"
      },
      "source": [
        "### 3. Write a Python Program to Print the Fibonacci sequence?\n"
      ]
    },
    {
      "cell_type": "code",
      "source": [
        "a=int(input(\"Enter Number: \"))\n",
        "def fib(n):\n",
        "  if n==1 or n==0:\n",
        "    return 1\n",
        "  else:\n",
        "    return (fib(n-1)+fib(n-2))\n",
        "print(f\"Fibonacci of number {a} is {fib(a)}\")"
      ],
      "metadata": {
        "colab": {
          "base_uri": "https://localhost:8080/"
        },
        "id": "1OgrzgnCuhMP",
        "outputId": "a3593d87-a328-4d8c-ea40-db40454f1e19"
      },
      "id": "1OgrzgnCuhMP",
      "execution_count": null,
      "outputs": [
        {
          "output_type": "stream",
          "name": "stdout",
          "text": [
            "Enter Number: 4\n",
            "Fibonacci of number 4 is 5\n"
          ]
        }
      ]
    },
    {
      "cell_type": "markdown",
      "id": "0446442e",
      "metadata": {
        "id": "0446442e"
      },
      "source": [
        "### 4. Write a Python Program to Check Armstrong Number?"
      ]
    },
    {
      "cell_type": "code",
      "source": [
        "a=int(input(\"Enter number: \"))\n",
        "\n",
        "def isArmstrong (a):\n",
        "  digits=[]\n",
        "  p=a\n",
        "  while(a>0):\n",
        "    t=a%10\n",
        "    digits.append(t)\n",
        "    a=int(a/10)\n",
        "\n",
        "  Ans=0\n",
        "  for i in digits:\n",
        "    Ans+=(i**len(digits))\n",
        "\n",
        "  return Ans\n",
        "\n",
        "if(isArmstrong(a)==a):\n",
        "  print(\"Armstrong\")\n",
        "else:\n",
        "  print(\"Non-Armstrong\")"
      ],
      "metadata": {
        "colab": {
          "base_uri": "https://localhost:8080/"
        },
        "id": "dng9Y1DmzfPu",
        "outputId": "ca2ff58a-7b84-4d66-c731-b1b761d30ff2"
      },
      "id": "dng9Y1DmzfPu",
      "execution_count": 33,
      "outputs": [
        {
          "output_type": "stream",
          "name": "stdout",
          "text": [
            "Enter number: 317\n",
            "Non-Armstrong\n"
          ]
        }
      ]
    },
    {
      "cell_type": "markdown",
      "id": "a6f9adfe",
      "metadata": {
        "id": "a6f9adfe"
      },
      "source": [
        "### 5. Write a Python Program to Find Armstrong Number in an Interval?"
      ]
    },
    {
      "cell_type": "code",
      "source": [
        "a=int(input(\"Starting interval: \"))\n",
        "b=int(input(\"Ending interval: \"))\n",
        "\n",
        "ans=[]\n",
        "\n",
        "for i in range (a,b+1):\n",
        "  if(isArmstrong(i)==i):\n",
        "    ans.append(i)\n",
        "\n",
        "ans"
      ],
      "metadata": {
        "colab": {
          "base_uri": "https://localhost:8080/"
        },
        "id": "U1zC4O3BYVdK",
        "outputId": "9584c5ae-4d20-4703-e55c-d5153b645917"
      },
      "id": "U1zC4O3BYVdK",
      "execution_count": 34,
      "outputs": [
        {
          "name": "stdout",
          "output_type": "stream",
          "text": [
            "Starting interval: 150\n",
            "Ending interval: 155\n"
          ]
        },
        {
          "output_type": "execute_result",
          "data": {
            "text/plain": [
              "[153]"
            ]
          },
          "metadata": {},
          "execution_count": 34
        }
      ]
    },
    {
      "cell_type": "markdown",
      "id": "157cad60",
      "metadata": {
        "id": "157cad60"
      },
      "source": [
        "### 6. Write a Python Program to Find the Sum of Natural Numbers?"
      ]
    },
    {
      "cell_type": "code",
      "source": [
        "a=int(input(\"Enter natural number: \"))\n",
        "def sum(n):\n",
        "  if n==0:\n",
        "    return 0\n",
        "  else:\n",
        "    return n+sum(n-1)\n",
        "print(f\"Sum of first a natural number: {sum(a)}\")"
      ],
      "metadata": {
        "colab": {
          "base_uri": "https://localhost:8080/"
        },
        "id": "QTFYHkQMgUUN",
        "outputId": "7be5306a-9bd9-428c-b8ad-409e363639af"
      },
      "id": "QTFYHkQMgUUN",
      "execution_count": 35,
      "outputs": [
        {
          "output_type": "stream",
          "name": "stdout",
          "text": [
            "Enter natural number: 5\n",
            "Sum of first a natural number: 15\n"
          ]
        }
      ]
    }
  ],
  "metadata": {
    "kernelspec": {
      "display_name": "Python 3 (ipykernel)",
      "language": "python",
      "name": "python3"
    },
    "language_info": {
      "codemirror_mode": {
        "name": "ipython",
        "version": 3
      },
      "file_extension": ".py",
      "mimetype": "text/x-python",
      "name": "python",
      "nbconvert_exporter": "python",
      "pygments_lexer": "ipython3",
      "version": "3.9.12"
    },
    "colab": {
      "provenance": []
    }
  },
  "nbformat": 4,
  "nbformat_minor": 5
}
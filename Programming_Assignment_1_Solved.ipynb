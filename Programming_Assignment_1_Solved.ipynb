{
  "cells": [
    {
      "cell_type": "markdown",
      "id": "637b47a5",
      "metadata": {
        "id": "637b47a5"
      },
      "source": [
        "## Programming Assignment_1\n",
        "-------------"
      ]
    },
    {
      "cell_type": "markdown",
      "id": "0c647dbe",
      "metadata": {
        "id": "0c647dbe"
      },
      "source": [
        "### 1. Write a Python program to print \"Hello Python\"?"
      ]
    },
    {
      "cell_type": "code",
      "source": [
        "print(\"Hello Python\")"
      ],
      "metadata": {
        "colab": {
          "base_uri": "https://localhost:8080/"
        },
        "id": "UXVT04Xm32qB",
        "outputId": "5edf7d6b-0613-4bcd-b3c1-31857a9fa09a"
      },
      "id": "UXVT04Xm32qB",
      "execution_count": 1,
      "outputs": [
        {
          "output_type": "stream",
          "name": "stdout",
          "text": [
            "Hello Python\n"
          ]
        }
      ]
    },
    {
      "cell_type": "markdown",
      "id": "fc18a6cd",
      "metadata": {
        "id": "fc18a6cd"
      },
      "source": [
        "### 2. Write a Python program to do arithmetical operations addition and division.?\n"
      ]
    },
    {
      "cell_type": "code",
      "source": [
        "a=4;b=2\n",
        "print(f\"Addition of a & b: a+b={a+b}\")\n",
        "print(f\"Division of a & b: a/b={int(a/b)}\")"
      ],
      "metadata": {
        "colab": {
          "base_uri": "https://localhost:8080/"
        },
        "id": "rzxyj9kF3_lE",
        "outputId": "4b4b674a-284d-4a59-e5d6-f57f5c5bcdbf"
      },
      "id": "rzxyj9kF3_lE",
      "execution_count": 3,
      "outputs": [
        {
          "output_type": "stream",
          "name": "stdout",
          "text": [
            "Addition of a & b: a+b=6\n",
            "Division of a & b: a/b=2\n"
          ]
        }
      ]
    },
    {
      "cell_type": "markdown",
      "id": "af6e2429",
      "metadata": {
        "id": "af6e2429"
      },
      "source": [
        "### 3. Write a Python program to find the area of a triangle?\n"
      ]
    },
    {
      "cell_type": "code",
      "source": [
        "print (\"Area of right angle triangle\")\n",
        "base=input(\"Enter Base: \")\n",
        "height=input(\"Enter Height: \")\n",
        "print(f\"Area: {int(int(base)*int(height)*0.5)}\")"
      ],
      "metadata": {
        "colab": {
          "base_uri": "https://localhost:8080/"
        },
        "id": "EmQ0mtDc4jYZ",
        "outputId": "b44200ca-da08-4826-8088-d290fb2bd7c6"
      },
      "id": "EmQ0mtDc4jYZ",
      "execution_count": 11,
      "outputs": [
        {
          "output_type": "stream",
          "name": "stdout",
          "text": [
            "Area of right angle triangle\n",
            "Enter Base: 5\n",
            "Enter Height: 12\n",
            "Area: 30\n"
          ]
        }
      ]
    },
    {
      "cell_type": "code",
      "source": [
        "print(\"Area of any triangle\")\n",
        "a=int(input(\"Enter side 1: \"))\n",
        "b=int(input(\"Enter side 2: \"))\n",
        "c=int(input(\"Enter side 3: \"))\n",
        "s=int((a+b+c)/2)\n",
        "print(f\"Area is {int((s**0.5)*((s-a)**0.5)*((s-b)**0.5)*((s-c)**0.5))}\")"
      ],
      "metadata": {
        "colab": {
          "base_uri": "https://localhost:8080/"
        },
        "id": "UCXucUl66wVT",
        "outputId": "90e7d5d1-dc66-41b6-a118-dbc7aec50030"
      },
      "id": "UCXucUl66wVT",
      "execution_count": 14,
      "outputs": [
        {
          "output_type": "stream",
          "name": "stdout",
          "text": [
            "Area of any triangle\n",
            "Enter side 1: 3\n",
            "Enter side 2: 4\n",
            "Enter side 3: 5\n",
            "Area is 6\n"
          ]
        }
      ]
    },
    {
      "cell_type": "markdown",
      "id": "b8140061",
      "metadata": {
        "id": "b8140061"
      },
      "source": [
        "###4. Write a Python program to swap two variables?\n"
      ]
    },
    {
      "cell_type": "code",
      "source": [
        "a=input(\"Enter 1st number: \")\n",
        "b=input(\"Enter 2nd number: \")\n",
        "print(\"swaping of number\")\n",
        "temp=a\n",
        "a=b\n",
        "b=temp\n",
        "print(f\"a = {a} and b = {b}\")"
      ],
      "metadata": {
        "colab": {
          "base_uri": "https://localhost:8080/"
        },
        "id": "bDjsESJM8YrV",
        "outputId": "8dae0c37-2c67-4cd9-811b-53582683c269"
      },
      "id": "bDjsESJM8YrV",
      "execution_count": 16,
      "outputs": [
        {
          "output_type": "stream",
          "name": "stdout",
          "text": [
            "Enter 1st number: 4\n",
            "Enter 2nd number: 5\n",
            "swaping of number\n",
            "a = 5 and b = 4\n"
          ]
        }
      ]
    },
    {
      "cell_type": "markdown",
      "id": "3f8054c1",
      "metadata": {
        "id": "3f8054c1"
      },
      "source": [
        "### 5. Write a Python program to generate a random number?\n"
      ]
    },
    {
      "cell_type": "code",
      "source": [
        "import random\n",
        "a=random.randint(0,100)\n",
        "print(a)"
      ],
      "metadata": {
        "colab": {
          "base_uri": "https://localhost:8080/"
        },
        "id": "GerwHz958_0I",
        "outputId": "d477f52c-95ea-4f2b-9688-4e2b56b38735"
      },
      "id": "GerwHz958_0I",
      "execution_count": 21,
      "outputs": [
        {
          "output_type": "stream",
          "name": "stdout",
          "text": [
            "55\n"
          ]
        }
      ]
    }
  ],
  "metadata": {
    "kernelspec": {
      "display_name": "Python 3 (ipykernel)",
      "language": "python",
      "name": "python3"
    },
    "language_info": {
      "codemirror_mode": {
        "name": "ipython",
        "version": 3
      },
      "file_extension": ".py",
      "mimetype": "text/x-python",
      "name": "python",
      "nbconvert_exporter": "python",
      "pygments_lexer": "ipython3",
      "version": "3.9.12"
    },
    "colab": {
      "provenance": []
    }
  },
  "nbformat": 4,
  "nbformat_minor": 5
}
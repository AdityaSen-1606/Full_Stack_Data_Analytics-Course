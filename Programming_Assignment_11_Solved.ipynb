{
  "cells": [
    {
      "cell_type": "markdown",
      "id": "53c7e882",
      "metadata": {
        "id": "53c7e882"
      },
      "source": [
        "# Python Basic Programming Assignment 11\n",
        "--------------------"
      ]
    },
    {
      "cell_type": "markdown",
      "id": "051da140",
      "metadata": {
        "id": "051da140"
      },
      "source": [
        "### 1. Write a Python program to find words which are greater than given length k?"
      ]
    },
    {
      "cell_type": "code",
      "source": [
        "import string\n",
        "sentence = input(\"Sentance: \")\n",
        "l=int(input(\"length: \"))\n",
        "lst=sentence.split()\n",
        "for i in lst:\n",
        "  if len(i)>l:\n",
        "    print(i)"
      ],
      "metadata": {
        "colab": {
          "base_uri": "https://localhost:8080/"
        },
        "id": "oC9cXoZbtZTo",
        "outputId": "ca5c24cf-1f6c-46b0-ee81-f85ff53cd109"
      },
      "id": "oC9cXoZbtZTo",
      "execution_count": 2,
      "outputs": [
        {
          "output_type": "stream",
          "name": "stdout",
          "text": [
            "Sentance: Aditya Sen\n",
            "length: 3\n",
            "Aditya\n"
          ]
        }
      ]
    },
    {
      "cell_type": "markdown",
      "id": "26719cbd",
      "metadata": {
        "id": "26719cbd"
      },
      "source": [
        "### 2. Write a Python program for removing i-th character from a string?"
      ]
    },
    {
      "cell_type": "code",
      "source": [
        "s=input(\"enter string: \")\n",
        "i=int(input(\"enter i: \"))\n",
        "swo=s[:i] + s[i+1:]\n",
        "swo"
      ],
      "metadata": {
        "colab": {
          "base_uri": "https://localhost:8080/",
          "height": 70
        },
        "id": "rhMnJ1n6uSO4",
        "outputId": "fe742a73-cfa6-44af-8a2f-1023b4810a97"
      },
      "id": "rhMnJ1n6uSO4",
      "execution_count": 4,
      "outputs": [
        {
          "name": "stdout",
          "output_type": "stream",
          "text": [
            "enter string: abcd\n",
            "enter i: 1\n"
          ]
        },
        {
          "output_type": "execute_result",
          "data": {
            "text/plain": [
              "'acd'"
            ],
            "application/vnd.google.colaboratory.intrinsic+json": {
              "type": "string"
            }
          },
          "metadata": {},
          "execution_count": 4
        }
      ]
    },
    {
      "cell_type": "markdown",
      "id": "51ae6b0f",
      "metadata": {
        "id": "51ae6b0f"
      },
      "source": [
        "### 3. Write a Python program to split and join a string?"
      ]
    },
    {
      "cell_type": "code",
      "source": [
        "s=input(\"enter string: \")\n",
        "lst=s.split(\",\")\n",
        "ans=\" \".join(lst)\n",
        "ans"
      ],
      "metadata": {
        "colab": {
          "base_uri": "https://localhost:8080/",
          "height": 53
        },
        "id": "qYIz6MXuvBgO",
        "outputId": "2ea77a5b-22b5-4846-9be3-019baf9e6625"
      },
      "id": "qYIz6MXuvBgO",
      "execution_count": 5,
      "outputs": [
        {
          "name": "stdout",
          "output_type": "stream",
          "text": [
            "enter string: Hello, World\n"
          ]
        },
        {
          "output_type": "execute_result",
          "data": {
            "text/plain": [
              "'Hello  World'"
            ],
            "application/vnd.google.colaboratory.intrinsic+json": {
              "type": "string"
            }
          },
          "metadata": {},
          "execution_count": 5
        }
      ]
    },
    {
      "cell_type": "markdown",
      "id": "59079fe1",
      "metadata": {
        "id": "59079fe1"
      },
      "source": [
        "### 4. Write a Python to check if a given string is binary string or not?"
      ]
    },
    {
      "cell_type": "code",
      "source": [
        "def is_binary_string(a):\n",
        "    for char in a:\n",
        "        if char != '0' and char != '1':\n",
        "            return False\n",
        "    return True"
      ],
      "metadata": {
        "id": "rPYH_JlBvvO_"
      },
      "id": "rPYH_JlBvvO_",
      "execution_count": 10,
      "outputs": []
    },
    {
      "cell_type": "code",
      "source": [
        "a=input(\"enter string: \")\n",
        "if is_binary_string(a):\n",
        "    print(\"The string is a binary string.\")\n",
        "else:\n",
        "    print(\"The string is not a binary string.\")"
      ],
      "metadata": {
        "colab": {
          "base_uri": "https://localhost:8080/"
        },
        "id": "nMYda3YRw_pf",
        "outputId": "e6c92dfc-0c64-485e-d3b0-79ec719575dd"
      },
      "id": "nMYda3YRw_pf",
      "execution_count": 11,
      "outputs": [
        {
          "output_type": "stream",
          "name": "stdout",
          "text": [
            "enter string: 010101\n",
            "The string is a binary string.\n"
          ]
        }
      ]
    },
    {
      "cell_type": "markdown",
      "id": "4d6cf11a",
      "metadata": {
        "id": "4d6cf11a"
      },
      "source": [
        "### 5. Write a Python program to find uncommon words from two Strings?"
      ]
    },
    {
      "cell_type": "code",
      "source": [
        "s1=input(\"enter 1st string \")\n",
        "s2=input(\"enter 2nd string \")\n",
        "ans = set(s1.split()) ^ set(s2.split())\n",
        "ans"
      ],
      "metadata": {
        "colab": {
          "base_uri": "https://localhost:8080/"
        },
        "id": "mRojw6ooxQSX",
        "outputId": "4011ce9b-3ee1-4f37-b720-d1205e408576"
      },
      "id": "mRojw6ooxQSX",
      "execution_count": 12,
      "outputs": [
        {
          "name": "stdout",
          "output_type": "stream",
          "text": [
            "enter 1st string Aditya Sen\n",
            "enter 2nd string Sen Aditi\n"
          ]
        },
        {
          "output_type": "execute_result",
          "data": {
            "text/plain": [
              "{'Aditi', 'Aditya'}"
            ]
          },
          "metadata": {},
          "execution_count": 12
        }
      ]
    },
    {
      "cell_type": "markdown",
      "id": "e2b24677",
      "metadata": {
        "id": "e2b24677"
      },
      "source": [
        "### 6. Write a Python to find all duplicate characters in string?"
      ]
    },
    {
      "cell_type": "code",
      "source": [
        "def find_duplicate_characters(string):\n",
        "    duplicate_characters = []\n",
        "    seen_characters = set()\n",
        "\n",
        "    for char in string:\n",
        "        if char in seen_characters:\n",
        "            if char not in duplicate_characters:\n",
        "                duplicate_characters.append(char)\n",
        "        else:\n",
        "            seen_characters.add(char)\n",
        "\n",
        "    return duplicate_characters"
      ],
      "metadata": {
        "id": "eSnBra-Cx_by"
      },
      "id": "eSnBra-Cx_by",
      "execution_count": 13,
      "outputs": []
    },
    {
      "cell_type": "code",
      "source": [
        "s=input(\"enter input string: \")\n",
        "find_duplicate_characters(s)"
      ],
      "metadata": {
        "colab": {
          "base_uri": "https://localhost:8080/"
        },
        "id": "HHqv13p0ymrP",
        "outputId": "c030b309-fd41-4e50-e75c-7db1a44333ff"
      },
      "id": "HHqv13p0ymrP",
      "execution_count": 14,
      "outputs": [
        {
          "name": "stdout",
          "output_type": "stream",
          "text": [
            "enter input string: Hello World\n"
          ]
        },
        {
          "output_type": "execute_result",
          "data": {
            "text/plain": [
              "['l', 'o']"
            ]
          },
          "metadata": {},
          "execution_count": 14
        }
      ]
    },
    {
      "cell_type": "markdown",
      "id": "1a6af7e4",
      "metadata": {
        "id": "1a6af7e4"
      },
      "source": [
        "### 7. Write a Python Program to check if a string contains any special character?"
      ]
    },
    {
      "cell_type": "code",
      "source": [
        "import re\n",
        "\n",
        "def is_special_character(string):\n",
        "    pattern = r'[^a-zA-Z0-9\\s]'\n",
        "\n",
        "    if re.search(pattern, string):\n",
        "        return True\n",
        "    else:\n",
        "        return False"
      ],
      "metadata": {
        "id": "-nYFdehWy5JO"
      },
      "id": "-nYFdehWy5JO",
      "execution_count": 15,
      "outputs": []
    },
    {
      "cell_type": "code",
      "source": [
        "s=input(\"Enter input string: \")\n",
        "if is_special_character(s):\n",
        "    print(\"The string contains special characters.\")\n",
        "else:\n",
        "    print(\"The string does not contain special characters.\")"
      ],
      "metadata": {
        "colab": {
          "base_uri": "https://localhost:8080/"
        },
        "id": "Jc20WpwjzTa3",
        "outputId": "ac605a74-2d6c-4836-a7b4-8a1df881162a"
      },
      "id": "Jc20WpwjzTa3",
      "execution_count": 16,
      "outputs": [
        {
          "output_type": "stream",
          "name": "stdout",
          "text": [
            "Enter input string: Hello, World !\n",
            "The string contains special characters.\n"
          ]
        }
      ]
    }
  ],
  "metadata": {
    "kernelspec": {
      "display_name": "Python 3 (ipykernel)",
      "language": "python",
      "name": "python3"
    },
    "language_info": {
      "codemirror_mode": {
        "name": "ipython",
        "version": 3
      },
      "file_extension": ".py",
      "mimetype": "text/x-python",
      "name": "python",
      "nbconvert_exporter": "python",
      "pygments_lexer": "ipython3",
      "version": "3.9.12"
    },
    "colab": {
      "provenance": []
    }
  },
  "nbformat": 4,
  "nbformat_minor": 5
}
{
  "cells": [
    {
      "cell_type": "markdown",
      "id": "35297a20",
      "metadata": {
        "id": "35297a20"
      },
      "source": [
        "## Programming Basic Assignment 7"
      ]
    },
    {
      "cell_type": "markdown",
      "id": "27349114",
      "metadata": {
        "id": "27349114"
      },
      "source": [
        "### 1. Write a Python Program to find sum of array?"
      ]
    },
    {
      "cell_type": "code",
      "source": [
        "from numpy import random\n",
        "\n",
        "x = random.randint(100,size=5)\n",
        "\n",
        "sum=0\n",
        "\n",
        "for i in x:\n",
        "  sum+=i\n",
        "print(x)\n",
        "print(\"Sum of random array is \",sum)"
      ],
      "metadata": {
        "colab": {
          "base_uri": "https://localhost:8080/"
        },
        "id": "4kjYEYe66umD",
        "outputId": "727af8dd-8e02-4af2-8a16-59a97d60c28a"
      },
      "id": "4kjYEYe66umD",
      "execution_count": 2,
      "outputs": [
        {
          "output_type": "stream",
          "name": "stdout",
          "text": [
            "[76 16 27 99  4]\n",
            "Sum of random array is  222\n"
          ]
        }
      ]
    },
    {
      "cell_type": "markdown",
      "id": "171a980d",
      "metadata": {
        "id": "171a980d"
      },
      "source": [
        "### 2. Write a Python Program to find largest element in an array?\n"
      ]
    },
    {
      "cell_type": "code",
      "source": [
        "mx=0\n",
        "for i in x:\n",
        "  mx=max(mx,i)\n",
        "print(\"Maximum element is \",mx)"
      ],
      "metadata": {
        "colab": {
          "base_uri": "https://localhost:8080/"
        },
        "id": "KRCy6njA7bS6",
        "outputId": "23edc104-3987-4c2f-8cd4-27ca921f06d4"
      },
      "id": "KRCy6njA7bS6",
      "execution_count": 3,
      "outputs": [
        {
          "output_type": "stream",
          "name": "stdout",
          "text": [
            "Maximum element is  99\n"
          ]
        }
      ]
    },
    {
      "cell_type": "markdown",
      "id": "21613246",
      "metadata": {
        "id": "21613246"
      },
      "source": [
        "### 3. Write a Python Program for array rotation?"
      ]
    },
    {
      "cell_type": "code",
      "source": [
        "def rotation(p):\n",
        "  n=len(p)\n",
        "  for i in range(0,int(n/2)+1):\n",
        "    t=p[i]\n",
        "    p[i]=p[n-i-1]\n",
        "    p[n-i-1]=t\n",
        "  return p\n",
        "a=x.copy()\n",
        "print(x,\": without rotation\")\n",
        "print(rotation(a),\": rotation\")"
      ],
      "metadata": {
        "colab": {
          "base_uri": "https://localhost:8080/"
        },
        "id": "nTaXiWEf70Q4",
        "outputId": "0dd4c097-7071-4b05-a3ba-0abd4f4230be"
      },
      "id": "nTaXiWEf70Q4",
      "execution_count": 17,
      "outputs": [
        {
          "output_type": "stream",
          "name": "stdout",
          "text": [
            "[ 4 99 27 16 76] : without rotation\n",
            "[76 16 27 99  4] : rotation\n"
          ]
        }
      ]
    },
    {
      "cell_type": "markdown",
      "id": "3e52d939",
      "metadata": {
        "id": "3e52d939"
      },
      "source": [
        "### 4. Write a Python Program to Split the array and add the first part to the end?"
      ]
    },
    {
      "cell_type": "code",
      "source": [
        "import numpy as np\n",
        "n=int(len(x)/2)\n",
        "arr1 = x[n:]\n",
        "arr2=x[:n]\n",
        "np.concatenate((arr1,arr2))"
      ],
      "metadata": {
        "colab": {
          "base_uri": "https://localhost:8080/"
        },
        "id": "7EN--b_-9y_j",
        "outputId": "9471b84d-4cd0-4427-e2bb-137ed7c0af82"
      },
      "id": "7EN--b_-9y_j",
      "execution_count": 28,
      "outputs": [
        {
          "output_type": "execute_result",
          "data": {
            "text/plain": [
              "array([27, 16, 76,  4, 99])"
            ]
          },
          "metadata": {},
          "execution_count": 28
        }
      ]
    },
    {
      "cell_type": "markdown",
      "id": "aa375779",
      "metadata": {
        "id": "aa375779"
      },
      "source": [
        "### 5. Write a Python Program to check if given array is Monotonic?"
      ]
    },
    {
      "cell_type": "code",
      "source": [
        "def isMonotonic(arry):\n",
        "  flag_inc=True; flag_dec=True\n",
        "  for i in range(1,len(arry)):\n",
        "    if arry[i-1]<arry[i]:\n",
        "      flag_dec=False\n",
        "    if arry[i-1]>arry[i]:\n",
        "      flag_inc=False\n",
        "  return flag_inc or flag_dec"
      ],
      "metadata": {
        "id": "6UFu_jNpbjH8"
      },
      "id": "6UFu_jNpbjH8",
      "execution_count": 29,
      "outputs": []
    },
    {
      "cell_type": "code",
      "source": [
        "isMonotonic(x)"
      ],
      "metadata": {
        "colab": {
          "base_uri": "https://localhost:8080/"
        },
        "id": "RR_j4aUMcy0R",
        "outputId": "8c17317d-dcce-4f5e-f4a7-c1b0f1ba6a9a"
      },
      "id": "RR_j4aUMcy0R",
      "execution_count": 30,
      "outputs": [
        {
          "output_type": "execute_result",
          "data": {
            "text/plain": [
              "False"
            ]
          },
          "metadata": {},
          "execution_count": 30
        }
      ]
    }
  ],
  "metadata": {
    "kernelspec": {
      "display_name": "Python 3 (ipykernel)",
      "language": "python",
      "name": "python3"
    },
    "language_info": {
      "codemirror_mode": {
        "name": "ipython",
        "version": 3
      },
      "file_extension": ".py",
      "mimetype": "text/x-python",
      "name": "python",
      "nbconvert_exporter": "python",
      "pygments_lexer": "ipython3",
      "version": "3.9.12"
    },
    "colab": {
      "provenance": []
    }
  },
  "nbformat": 4,
  "nbformat_minor": 5
}
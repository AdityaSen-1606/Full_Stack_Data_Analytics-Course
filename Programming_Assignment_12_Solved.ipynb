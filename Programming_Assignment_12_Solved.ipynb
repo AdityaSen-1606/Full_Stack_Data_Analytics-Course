{
  "cells": [
    {
      "cell_type": "markdown",
      "id": "b7231b20",
      "metadata": {
        "id": "b7231b20"
      },
      "source": [
        "# Python Basic Programming Assignment 12\n",
        "-------------"
      ]
    },
    {
      "cell_type": "markdown",
      "id": "d2ec324d",
      "metadata": {
        "id": "d2ec324d"
      },
      "source": [
        "### 1. Write a Python program to Extract Unique values dictionary values?"
      ]
    },
    {
      "cell_type": "code",
      "source": [
        "dict = {'a': 1, 'b': 2, 'c': 1, 'd': 3, 'e': 2}\n",
        "set(dict.values())"
      ],
      "metadata": {
        "colab": {
          "base_uri": "https://localhost:8080/"
        },
        "id": "Qky4si0Y0Ij5",
        "outputId": "68a68c8d-2093-42a2-a305-c53f7a0f0c6b"
      },
      "id": "Qky4si0Y0Ij5",
      "execution_count": 1,
      "outputs": [
        {
          "output_type": "execute_result",
          "data": {
            "text/plain": [
              "{1, 2, 3}"
            ]
          },
          "metadata": {},
          "execution_count": 1
        }
      ]
    },
    {
      "cell_type": "markdown",
      "id": "203bcbc3",
      "metadata": {
        "id": "203bcbc3"
      },
      "source": [
        "### 2. Write a Python program to find the sum of all items in a dictionary?"
      ]
    },
    {
      "cell_type": "code",
      "source": [
        "sum(dict.values())"
      ],
      "metadata": {
        "colab": {
          "base_uri": "https://localhost:8080/"
        },
        "id": "9WBYARFM0fYS",
        "outputId": "dfa57b27-46b6-42e2-ce0a-4ecf22852348"
      },
      "id": "9WBYARFM0fYS",
      "execution_count": 2,
      "outputs": [
        {
          "output_type": "execute_result",
          "data": {
            "text/plain": [
              "9"
            ]
          },
          "metadata": {},
          "execution_count": 2
        }
      ]
    },
    {
      "cell_type": "markdown",
      "id": "edfbc682",
      "metadata": {
        "id": "edfbc682"
      },
      "source": [
        "### 3. Write a Python program to Merging two Dictionaries?"
      ]
    },
    {
      "cell_type": "code",
      "source": [
        "dict1 = {'f': 3, 'g': 4}\n",
        "dict.update(dict1)\n",
        "dict"
      ],
      "metadata": {
        "colab": {
          "base_uri": "https://localhost:8080/"
        },
        "id": "BPGBjzkL0rdJ",
        "outputId": "c455a12b-a65c-4000-eab0-b883e84b220f"
      },
      "id": "BPGBjzkL0rdJ",
      "execution_count": 4,
      "outputs": [
        {
          "output_type": "execute_result",
          "data": {
            "text/plain": [
              "{'a': 1, 'b': 2, 'c': 1, 'd': 3, 'e': 2, 'f': 3, 'g': 4}"
            ]
          },
          "metadata": {},
          "execution_count": 4
        }
      ]
    },
    {
      "cell_type": "markdown",
      "id": "62eaf687",
      "metadata": {
        "id": "62eaf687"
      },
      "source": [
        "### 4. Write a Python program to convert key-values list to flat dictionary?"
      ]
    },
    {
      "cell_type": "code",
      "source": [
        "key_value_list = [('a', 1), ('b', 2), ('c', 3), ('d', 4)]\n",
        "dict1={}\n",
        "for key,value in key_value_list:\n",
        "  dict1[key]=value\n",
        "dict1"
      ],
      "metadata": {
        "colab": {
          "base_uri": "https://localhost:8080/"
        },
        "id": "AtzkqCFp1PCp",
        "outputId": "969e0095-d3a5-4fee-db47-8264e8d944c7"
      },
      "id": "AtzkqCFp1PCp",
      "execution_count": 5,
      "outputs": [
        {
          "output_type": "execute_result",
          "data": {
            "text/plain": [
              "{'a': 1, 'b': 2, 'c': 3, 'd': 4}"
            ]
          },
          "metadata": {},
          "execution_count": 5
        }
      ]
    },
    {
      "cell_type": "markdown",
      "id": "fcc5015f",
      "metadata": {
        "id": "fcc5015f"
      },
      "source": [
        "### 5. Write a Python program to insertion at the beginning in OrderedDict?"
      ]
    },
    {
      "cell_type": "code",
      "source": [
        "from collections import OrderedDict\n",
        "def insert_at_beginning(ordered_dict, key, value):\n",
        "    ordered_dict[key] = value\n",
        "    ordered_dict.move_to_end(key, last=False)\n",
        "\n",
        "ordered_dict = OrderedDict([('a', 1), ('b', 2), ('c', 3)])\n",
        "insert_at_beginning(ordered_dict, 'x', 10)\n",
        "\n",
        "ordered_dict"
      ],
      "metadata": {
        "colab": {
          "base_uri": "https://localhost:8080/"
        },
        "id": "0nooniw81vX6",
        "outputId": "9e505e11-2325-429e-f108-8685765e7d5c"
      },
      "id": "0nooniw81vX6",
      "execution_count": 7,
      "outputs": [
        {
          "output_type": "execute_result",
          "data": {
            "text/plain": [
              "OrderedDict([('x', 10), ('a', 1), ('b', 2), ('c', 3)])"
            ]
          },
          "metadata": {},
          "execution_count": 7
        }
      ]
    },
    {
      "cell_type": "markdown",
      "id": "5978c9ab",
      "metadata": {
        "id": "5978c9ab"
      },
      "source": [
        "### 6. Write a Python program to check order of character in string using OrderedDict()?"
      ]
    },
    {
      "cell_type": "code",
      "source": [
        "def check_character_order(string):\n",
        "    ordered_dict = OrderedDict()\n",
        "    for char in string:\n",
        "        if char not in ordered_dict:\n",
        "            ordered_dict[char] = None\n",
        "    \n",
        "    ordered_chars = \"\".join(ordered_dict.keys())\n",
        "    \n",
        "    if ordered_chars == string:\n",
        "        return \"Characters are in order\"\n",
        "    else:\n",
        "        return \"Characters are not in order\""
      ],
      "metadata": {
        "id": "_WJKvL822viw"
      },
      "id": "_WJKvL822viw",
      "execution_count": 8,
      "outputs": []
    },
    {
      "cell_type": "code",
      "source": [
        "s=input(\"Enter input string: \")\n",
        "check_character_order(s)"
      ],
      "metadata": {
        "colab": {
          "base_uri": "https://localhost:8080/",
          "height": 53
        },
        "id": "vk8OQeZI2wso",
        "outputId": "372cfab9-53f6-49f4-81f4-3f6d11b0c533"
      },
      "id": "vk8OQeZI2wso",
      "execution_count": 9,
      "outputs": [
        {
          "name": "stdout",
          "output_type": "stream",
          "text": [
            "Enter input string: hello\n"
          ]
        },
        {
          "output_type": "execute_result",
          "data": {
            "text/plain": [
              "'Characters are not in order'"
            ],
            "application/vnd.google.colaboratory.intrinsic+json": {
              "type": "string"
            }
          },
          "metadata": {},
          "execution_count": 9
        }
      ]
    },
    {
      "cell_type": "markdown",
      "id": "f330da77",
      "metadata": {
        "id": "f330da77"
      },
      "source": [
        "### 7. Write a Python program to sort Python Dictionaries by Key or Value?"
      ]
    },
    {
      "cell_type": "code",
      "source": [
        "def sort_dictionary(dictionary, by_key=True):\n",
        "    sorted_dict = {}\n",
        "    if by_key:\n",
        "        sorted_keys = sorted(dictionary.keys())\n",
        "        for key in sorted_keys:\n",
        "            sorted_dict[key] = dictionary[key]\n",
        "    else:\n",
        "        sorted_items = sorted(dictionary.items(), key=lambda x: x[1])\n",
        "        for key, value in sorted_items:\n",
        "            sorted_dict[key] = value\n",
        "    return sorted_dict"
      ],
      "metadata": {
        "id": "_inDCMc93ITf"
      },
      "id": "_inDCMc93ITf",
      "execution_count": 10,
      "outputs": []
    },
    {
      "cell_type": "code",
      "source": [
        "dict = {'c': 1, 'a': 3, 'd': 4, 'b': 2}\n",
        "\n",
        "sorted_by_key = sort_dictionary(dict, by_key=True)\n",
        "print(\"Sorted by Key:\", sorted_by_key)\n",
        "\n",
        "sorted_by_value = sort_dictionary(dict, by_key=False)\n",
        "print(\"Sorted by Value:\", sorted_by_value)\n"
      ],
      "metadata": {
        "colab": {
          "base_uri": "https://localhost:8080/"
        },
        "id": "7KKZHL6B3I_8",
        "outputId": "64953dfe-4d66-43da-fe3d-4974d15d69cd"
      },
      "id": "7KKZHL6B3I_8",
      "execution_count": 12,
      "outputs": [
        {
          "output_type": "stream",
          "name": "stdout",
          "text": [
            "Sorted by Key: {'a': 3, 'b': 2, 'c': 1, 'd': 4}\n",
            "Sorted by Value: {'c': 1, 'b': 2, 'a': 3, 'd': 4}\n"
          ]
        }
      ]
    }
  ],
  "metadata": {
    "kernelspec": {
      "display_name": "Python 3 (ipykernel)",
      "language": "python",
      "name": "python3"
    },
    "language_info": {
      "codemirror_mode": {
        "name": "ipython",
        "version": 3
      },
      "file_extension": ".py",
      "mimetype": "text/x-python",
      "name": "python",
      "nbconvert_exporter": "python",
      "pygments_lexer": "ipython3",
      "version": "3.9.12"
    },
    "colab": {
      "provenance": []
    }
  },
  "nbformat": 4,
  "nbformat_minor": 5
}
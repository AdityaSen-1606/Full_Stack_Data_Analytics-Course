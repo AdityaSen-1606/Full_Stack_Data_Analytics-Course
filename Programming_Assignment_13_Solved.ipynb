{
  "cells": [
    {
      "cell_type": "markdown",
      "id": "62fd0c8e",
      "metadata": {
        "id": "62fd0c8e"
      },
      "source": [
        "# Python Programming Basic Assignment 13"
      ]
    },
    {
      "cell_type": "markdown",
      "id": "ed4a3c0b",
      "metadata": {
        "id": "ed4a3c0b"
      },
      "source": [
        "\n",
        "### 1. Write a program that calculates and prints the value according to the given formula:\n",
        "Q = Square root of [(2 C D)/H]\n",
        "\n",
        "Following are the fixed values of C and H:\n",
        "\n",
        "C is 50. H is 30.\n",
        "\n",
        "D is the variable whose values should be input to your program in a comma-separated sequence.\n",
        "\n",
        "Example\n",
        "\n",
        "Let us assume the following comma separated input sequence is given to the program:\n",
        "\n",
        "100,150,180\n",
        "\n",
        "The output of the program should be:\n",
        "\n",
        "18,22,24"
      ]
    },
    {
      "cell_type": "code",
      "source": [
        "s=input(\"Entre sequence of number: \")\n",
        "lst=s.split(\",\")\n",
        "ans=[str(int((((2*50*int(num))/30))**0.5)) for num in lst]\n",
        "Ans=\",\".join(ans)\n",
        "print(Ans)"
      ],
      "metadata": {
        "colab": {
          "base_uri": "https://localhost:8080/"
        },
        "id": "5zpk9X7utE8j",
        "outputId": "de2052ee-b213-4c28-93f3-53b73d995248"
      },
      "id": "5zpk9X7utE8j",
      "execution_count": 5,
      "outputs": [
        {
          "output_type": "stream",
          "name": "stdout",
          "text": [
            "Entre sequence of number: 100,150,180\n",
            "18,22,24\n"
          ]
        }
      ]
    },
    {
      "cell_type": "markdown",
      "id": "ed37b6ed",
      "metadata": {
        "id": "ed37b6ed"
      },
      "source": [
        "### 2. Write a program which takes 2 digits, X,Y as input and generates a 2-dimensional array. The element value in the i-th row and j-th column of the array should be i*j."
      ]
    },
    {
      "cell_type": "code",
      "source": [
        "X = int(input(\"Enter the value for X: \"))\n",
        "Y = int(input(\"Enter the value for Y: \"))\n",
        "array = [[i * j for j in range(Y)] for i in range(X)]\n",
        "\n",
        "for row in array:\n",
        "    print(row)"
      ],
      "metadata": {
        "colab": {
          "base_uri": "https://localhost:8080/"
        },
        "id": "OpBhje80vGrK",
        "outputId": "b35e711f-36af-477d-8c1e-39c38e9126ed"
      },
      "id": "OpBhje80vGrK",
      "execution_count": 6,
      "outputs": [
        {
          "output_type": "stream",
          "name": "stdout",
          "text": [
            "Enter the value for X: 2\n",
            "Enter the value for Y: 2\n",
            "[0, 0]\n",
            "[0, 1]\n"
          ]
        }
      ]
    },
    {
      "cell_type": "markdown",
      "id": "bc7f977b",
      "metadata": {
        "id": "bc7f977b"
      },
      "source": [
        "\n",
        "### 3. Write a program that accepts a comma separated sequence of words as input and prints the words in a comma-separated sequence after sorting them alphabetically."
      ]
    },
    {
      "cell_type": "code",
      "source": [
        "s=input(\"Enter sentence: \")\n",
        "lst=s.split(\",\")\n",
        "ans=\",\".join(sorted(lst))\n",
        "ans"
      ],
      "metadata": {
        "colab": {
          "base_uri": "https://localhost:8080/",
          "height": 53
        },
        "id": "g5t4A7DmvdR3",
        "outputId": "b5a7568b-5152-4709-af4b-ed9fb1a064a3"
      },
      "id": "g5t4A7DmvdR3",
      "execution_count": 8,
      "outputs": [
        {
          "name": "stdout",
          "output_type": "stream",
          "text": [
            "Enter sentence: aman,aditya,sen,deepak,rohan,mohan\n"
          ]
        },
        {
          "output_type": "execute_result",
          "data": {
            "text/plain": [
              "'aditya,aman,deepak,mohan,rohan,sen'"
            ],
            "application/vnd.google.colaboratory.intrinsic+json": {
              "type": "string"
            }
          },
          "metadata": {},
          "execution_count": 8
        }
      ]
    },
    {
      "cell_type": "markdown",
      "id": "171c3d90",
      "metadata": {
        "id": "171c3d90"
      },
      "source": [
        "### 4. Write a program that accepts a sequence of whitespace separated words as input and prints the words after removing all duplicate words and sorting them alphanumerically."
      ]
    },
    {
      "cell_type": "code",
      "source": [
        "s=input(\"Enter sentence: \")\n",
        "lst=sorted(set(s.split()))\n",
        "for l in lst:\n",
        "  print(l)"
      ],
      "metadata": {
        "colab": {
          "base_uri": "https://localhost:8080/"
        },
        "id": "m9-tw7JxwJ0w",
        "outputId": "78d0b2b6-0bd3-477a-d74d-ff038d754930"
      },
      "id": "m9-tw7JxwJ0w",
      "execution_count": 9,
      "outputs": [
        {
          "output_type": "stream",
          "name": "stdout",
          "text": [
            "Enter sentence: aditya  sen     aditya sen\n",
            "aditya\n",
            "sen\n"
          ]
        }
      ]
    },
    {
      "cell_type": "markdown",
      "id": "88d25c49",
      "metadata": {
        "id": "88d25c49"
      },
      "source": [
        "### 5. Write a program that accepts a sentence and calculate the number of letters and digits."
      ]
    },
    {
      "cell_type": "code",
      "source": [
        "s=input(\"Enter sentence: \")\n",
        "\n",
        "letter_cnt=0\n",
        "digit_cnt=0\n",
        "\n",
        "for char in s:\n",
        "  if char.isalpha():\n",
        "    letter_cnt+=1\n",
        "  elif char.isdigit():\n",
        "    digit_cnt+=1;\n",
        "print(f\"Letter count: {letter_cnt}\")\n",
        "print(f\"Digit count: {digit_cnt}\")"
      ],
      "metadata": {
        "colab": {
          "base_uri": "https://localhost:8080/"
        },
        "id": "wXpJRczGw0Ti",
        "outputId": "84e44443-757c-4290-a675-6294caa36d8f"
      },
      "id": "wXpJRczGw0Ti",
      "execution_count": 10,
      "outputs": [
        {
          "output_type": "stream",
          "name": "stdout",
          "text": [
            "Enter sentence: Hello World 1234\n",
            "Letter count: 10\n",
            "Digit count: 4\n"
          ]
        }
      ]
    },
    {
      "cell_type": "markdown",
      "id": "9695c4ca",
      "metadata": {
        "id": "9695c4ca"
      },
      "source": [
        "### 6. A website requires the users to input username and password to register. Write a program to check the validity of password input by users."
      ]
    },
    {
      "cell_type": "code",
      "source": [
        "def validity(password):\n",
        "    if len(password) < 8:\n",
        "        return False\n",
        "    \n",
        "    has_uppercase = False\n",
        "    has_lowercase = False\n",
        "    has_digit = False\n",
        "    \n",
        "    for char in password:\n",
        "        if char.isupper():\n",
        "            has_uppercase = True\n",
        "        elif char.islower():\n",
        "            has_lowercase = True\n",
        "        elif char.isdigit():\n",
        "            has_digit = True\n",
        "    \n",
        "    return has_uppercase and has_lowercase and has_digit"
      ],
      "metadata": {
        "id": "A8CwMXhBx6lb"
      },
      "id": "A8CwMXhBx6lb",
      "execution_count": 11,
      "outputs": []
    },
    {
      "cell_type": "code",
      "source": [
        "password = input(\"Enter a password: \")\n",
        "\n",
        "if validity(password):\n",
        "    print(\"Password is valid.\")\n",
        "else:\n",
        "    print(\"Password is invalid.\")"
      ],
      "metadata": {
        "colab": {
          "base_uri": "https://localhost:8080/"
        },
        "id": "QQ_ahcVByaH-",
        "outputId": "509329ba-5a08-475e-804f-d0359cc2f339"
      },
      "id": "QQ_ahcVByaH-",
      "execution_count": 13,
      "outputs": [
        {
          "output_type": "stream",
          "name": "stdout",
          "text": [
            "Enter a password: Hello123\n",
            "Password is valid.\n"
          ]
        }
      ]
    }
  ],
  "metadata": {
    "kernelspec": {
      "display_name": "Python 3 (ipykernel)",
      "language": "python",
      "name": "python3"
    },
    "language_info": {
      "codemirror_mode": {
        "name": "ipython",
        "version": 3
      },
      "file_extension": ".py",
      "mimetype": "text/x-python",
      "name": "python",
      "nbconvert_exporter": "python",
      "pygments_lexer": "ipython3",
      "version": "3.9.12"
    },
    "colab": {
      "provenance": []
    }
  },
  "nbformat": 4,
  "nbformat_minor": 5
}
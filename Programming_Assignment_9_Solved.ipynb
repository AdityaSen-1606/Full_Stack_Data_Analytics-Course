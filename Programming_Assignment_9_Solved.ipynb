{
  "cells": [
    {
      "cell_type": "markdown",
      "id": "47b9bb99",
      "metadata": {
        "id": "47b9bb99"
      },
      "source": [
        "## Programming Assignment_9\n",
        "----------------"
      ]
    },
    {
      "cell_type": "markdown",
      "id": "c725f7a9",
      "metadata": {
        "id": "c725f7a9"
      },
      "source": [
        "### 1. Write a Python program to check if the given number is a Disarium Number?"
      ]
    },
    {
      "cell_type": "code",
      "source": [
        "def is_disarium_number(num):\n",
        "    str_num = str(num)\n",
        "    length = len(str_num)\n",
        "    disarium_sum = 0\n",
        "\n",
        "    for i in range(length):\n",
        "        disarium_sum += int(str_num[i]) ** (i + 1)\n",
        "\n",
        "    return disarium_sum == num"
      ],
      "metadata": {
        "id": "8v2AQcAejSdf"
      },
      "id": "8v2AQcAejSdf",
      "execution_count": 1,
      "outputs": []
    },
    {
      "cell_type": "code",
      "source": [
        "a=int(input(\"Enter number: \"))\n",
        "if is_disarium_number(a):\n",
        "    print(a, \"is a Disarium number.\")\n",
        "else:\n",
        "    print(a, \"is not a Disarium number.\")"
      ],
      "metadata": {
        "colab": {
          "base_uri": "https://localhost:8080/"
        },
        "id": "Uc_EWYsDkBgH",
        "outputId": "4eecf7e9-e764-49c1-dd4a-6702df4f67b1"
      },
      "id": "Uc_EWYsDkBgH",
      "execution_count": 2,
      "outputs": [
        {
          "output_type": "stream",
          "name": "stdout",
          "text": [
            "Enter number: 135\n",
            "135 is a Disarium number.\n"
          ]
        }
      ]
    },
    {
      "cell_type": "markdown",
      "id": "f0064401",
      "metadata": {
        "id": "f0064401"
      },
      "source": [
        "### 2. Write a Python program to print all disarium numbers between 1 to 100?"
      ]
    },
    {
      "cell_type": "code",
      "source": [
        "ans=[]\n",
        "for i in range(1,100):\n",
        "  if is_disarium_number(i):\n",
        "    ans.append(i)\n",
        "ans"
      ],
      "metadata": {
        "colab": {
          "base_uri": "https://localhost:8080/"
        },
        "id": "3JyjRh4hkM5l",
        "outputId": "5075b37a-2ef1-48c2-8695-49bc4c3222da"
      },
      "id": "3JyjRh4hkM5l",
      "execution_count": 3,
      "outputs": [
        {
          "output_type": "execute_result",
          "data": {
            "text/plain": [
              "[1, 2, 3, 4, 5, 6, 7, 8, 9, 89]"
            ]
          },
          "metadata": {},
          "execution_count": 3
        }
      ]
    },
    {
      "cell_type": "markdown",
      "id": "31df1e4a",
      "metadata": {
        "id": "31df1e4a"
      },
      "source": [
        "### 3. Write a Python program to check if the given number is Happy Number?"
      ]
    },
    {
      "cell_type": "code",
      "source": [
        "def is_happy_number(num):\n",
        "    def get_next_number(n):\n",
        "        next_num = 0\n",
        "        while n > 0:\n",
        "            digit = n % 10\n",
        "            next_num += digit * digit\n",
        "            n //= 10\n",
        "        return next_num\n",
        "\n",
        "    slow = num\n",
        "    fast = get_next_number(num)\n",
        "    while fast != 1 and slow != fast:\n",
        "        slow = get_next_number(slow)\n",
        "        fast = get_next_number(get_next_number(fast))\n",
        "\n",
        "    return fast == 1"
      ],
      "metadata": {
        "id": "7oIeelpUkhds"
      },
      "id": "7oIeelpUkhds",
      "execution_count": 5,
      "outputs": []
    },
    {
      "cell_type": "code",
      "source": [
        "a=int(input(\"Enter number: \"))\n",
        "if is_happy_number(a):\n",
        "    print(a, \"is a Happy number.\")\n",
        "else:\n",
        "    print(a, \"is not a Happy number.\")"
      ],
      "metadata": {
        "colab": {
          "base_uri": "https://localhost:8080/"
        },
        "id": "DW37PSwOltNm",
        "outputId": "57277734-bccc-43fc-b2d9-b41e40ce138a"
      },
      "id": "DW37PSwOltNm",
      "execution_count": 6,
      "outputs": [
        {
          "output_type": "stream",
          "name": "stdout",
          "text": [
            "Enter number: 19\n",
            "19 is a Happy number.\n"
          ]
        }
      ]
    },
    {
      "cell_type": "markdown",
      "id": "51b265e3",
      "metadata": {
        "id": "51b265e3"
      },
      "source": [
        "### 4. Write a Python program to print all happy numbers between 1 and 100?"
      ]
    },
    {
      "cell_type": "code",
      "source": [
        "ans=[]\n",
        "for i in range(1,100):\n",
        "  if is_happy_number(i):\n",
        "    ans.append(i)\n",
        "ans"
      ],
      "metadata": {
        "colab": {
          "base_uri": "https://localhost:8080/"
        },
        "id": "L1GrRpBQmBts",
        "outputId": "389e75df-a6bd-4d61-81f1-c1637aa9e7e9"
      },
      "id": "L1GrRpBQmBts",
      "execution_count": 7,
      "outputs": [
        {
          "output_type": "execute_result",
          "data": {
            "text/plain": [
              "[1, 7, 10, 13, 19, 23, 28, 31, 32, 44, 49, 68, 70, 79, 82, 86, 91, 94, 97]"
            ]
          },
          "metadata": {},
          "execution_count": 7
        }
      ]
    },
    {
      "cell_type": "markdown",
      "id": "6a190ee0",
      "metadata": {
        "id": "6a190ee0"
      },
      "source": [
        "### 5. Write a Python program to determine whether the given number is a Harshad Number?"
      ]
    },
    {
      "cell_type": "code",
      "source": [
        "def is_harshad_number(num):\n",
        "    sum_digits = sum(int(digit) for digit in str(num))\n",
        "    return num % sum_digits == 0"
      ],
      "metadata": {
        "id": "VRpeWW4omXpd"
      },
      "id": "VRpeWW4omXpd",
      "execution_count": 8,
      "outputs": []
    },
    {
      "cell_type": "code",
      "source": [
        "a=int(input(\"Enter number: \"))\n",
        "if is_harshad_number(a):\n",
        "    print(a, \"is a Harshad number.\")\n",
        "else:\n",
        "    print(a, \"is not a Harshad number.\")"
      ],
      "metadata": {
        "colab": {
          "base_uri": "https://localhost:8080/"
        },
        "id": "rgohjrSsmcIs",
        "outputId": "cc16e4fa-c6ac-44a0-e9ef-2a14be14fb21"
      },
      "id": "rgohjrSsmcIs",
      "execution_count": 9,
      "outputs": [
        {
          "output_type": "stream",
          "name": "stdout",
          "text": [
            "Enter number: 18\n",
            "18 is a Harshad number.\n"
          ]
        }
      ]
    },
    {
      "cell_type": "markdown",
      "id": "7a7ea92e",
      "metadata": {
        "id": "7a7ea92e"
      },
      "source": [
        "### 6. Write a Python program to print all pronic numbers between 1 and 100?"
      ]
    },
    {
      "cell_type": "code",
      "source": [
        "def print_pronic_numbers(start, end):\n",
        "    pronic_numbers = []\n",
        "    for n in range(start, end + 1):\n",
        "        pronic_number = n * (n + 1)\n",
        "        if pronic_number <= end:\n",
        "            pronic_numbers.append(pronic_number)\n",
        "    print(\"Pronic numbers between\", start, \"and\", end, \":\")\n",
        "    print(pronic_numbers)"
      ],
      "metadata": {
        "id": "8LRxkMNqnBnt"
      },
      "id": "8LRxkMNqnBnt",
      "execution_count": 10,
      "outputs": []
    },
    {
      "cell_type": "code",
      "source": [
        "print_pronic_numbers(1, 100)"
      ],
      "metadata": {
        "colab": {
          "base_uri": "https://localhost:8080/"
        },
        "id": "S-p_WohAnIK6",
        "outputId": "1775e6a4-8f7a-4a18-997f-29c621c6d5f2"
      },
      "id": "S-p_WohAnIK6",
      "execution_count": 11,
      "outputs": [
        {
          "output_type": "stream",
          "name": "stdout",
          "text": [
            "Pronic numbers between 1 and 100 :\n",
            "[2, 6, 12, 20, 30, 42, 56, 72, 90]\n"
          ]
        }
      ]
    }
  ],
  "metadata": {
    "kernelspec": {
      "display_name": "Python 3 (ipykernel)",
      "language": "python",
      "name": "python3"
    },
    "language_info": {
      "codemirror_mode": {
        "name": "ipython",
        "version": 3
      },
      "file_extension": ".py",
      "mimetype": "text/x-python",
      "name": "python",
      "nbconvert_exporter": "python",
      "pygments_lexer": "ipython3",
      "version": "3.9.12"
    },
    "colab": {
      "provenance": []
    }
  },
  "nbformat": 4,
  "nbformat_minor": 5
}
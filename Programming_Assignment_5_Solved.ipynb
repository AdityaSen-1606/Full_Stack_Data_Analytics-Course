{
  "cells": [
    {
      "cell_type": "markdown",
      "id": "4ac9602a",
      "metadata": {
        "id": "4ac9602a"
      },
      "source": [
        "## Python Basic Programming Assignment - 5\n",
        "--------------\n"
      ]
    },
    {
      "cell_type": "markdown",
      "id": "fdaeee06",
      "metadata": {
        "id": "fdaeee06"
      },
      "source": [
        "### 1. Write a Python Program to Find LCM?"
      ]
    },
    {
      "cell_type": "code",
      "source": [
        "a=int(input(\"Enter number \"))\n",
        "b=int(input(\"Enter number \"))\n",
        "def lcm(a,b):\n",
        "  g=max(a,b)\n",
        "  while True:\n",
        "    if g%a==0 and g%b==0:\n",
        "      return g\n",
        "    else:\n",
        "      g+=1\n",
        "print(f\"LCM of {a} and {b} is {lcm(a,b)}\")"
      ],
      "metadata": {
        "colab": {
          "base_uri": "https://localhost:8080/"
        },
        "id": "TovpvQPNhev3",
        "outputId": "5a1bf27e-6067-419f-f0d3-ce22bf5bd3b5"
      },
      "id": "TovpvQPNhev3",
      "execution_count": 1,
      "outputs": [
        {
          "output_type": "stream",
          "name": "stdout",
          "text": [
            "Enter number 4\n",
            "Enter number 10\n",
            "LCM of 4 and 10 is 20\n"
          ]
        }
      ]
    },
    {
      "cell_type": "markdown",
      "id": "2f459cdf",
      "metadata": {
        "id": "2f459cdf"
      },
      "source": [
        "### 2. Write a Python Program to Find HCF?"
      ]
    },
    {
      "cell_type": "code",
      "source": [
        "a=int(input(\"Enter number \"))\n",
        "b=int(input(\"Enter number \"))\n",
        "\n",
        "def hcf(a,b):\n",
        "  if a==b:\n",
        "    return a\n",
        "  else:\n",
        "    return hcf(b,a-b)\n",
        "\n",
        "print(f\"HCF of {a} and {b} is {hcf(max(a,b),min(a,b))}\")"
      ],
      "metadata": {
        "colab": {
          "base_uri": "https://localhost:8080/"
        },
        "id": "4-vEN11XjTr8",
        "outputId": "06a2578f-e215-4807-ca4a-ac4fcfc2d25a"
      },
      "id": "4-vEN11XjTr8",
      "execution_count": 4,
      "outputs": [
        {
          "output_type": "stream",
          "name": "stdout",
          "text": [
            "Enter number 28\n",
            "Enter number 14\n",
            "HCF of 28 and 14 is 14\n"
          ]
        }
      ]
    },
    {
      "cell_type": "markdown",
      "id": "d2c29370",
      "metadata": {
        "id": "d2c29370"
      },
      "source": [
        "### 3. Write a Python Program to Convert Decimal to Binary, Octal and Hexadecimal?"
      ]
    },
    {
      "cell_type": "code",
      "source": [
        "a = int(input(\"Enter decimal number: \"))\n",
        "\n",
        "def deci_to_binary(n):\n",
        "  ans=[]\n",
        "  while n>0:\n",
        "    if(n%2==0):\n",
        "      ans.append(0)\n",
        "    else:\n",
        "      ans.append(1)\n",
        "    n=int(n/2)\n",
        "  ans.reverse()\n",
        "  print(ans)\n",
        "\n",
        "print(f\"Binary conversion of Decimal number {a} is\",deci_to_binary(a))"
      ],
      "metadata": {
        "colab": {
          "base_uri": "https://localhost:8080/"
        },
        "id": "SHTudQlwkbXG",
        "outputId": "5ad13519-c6d8-4d93-87e8-18820a13c3e4"
      },
      "id": "SHTudQlwkbXG",
      "execution_count": 14,
      "outputs": [
        {
          "output_type": "stream",
          "name": "stdout",
          "text": [
            "Enter decimal number: 75\n",
            "[1, 0, 0, 1, 0, 1, 1]\n",
            "Binary conversion of Decimal number 75 is None\n"
          ]
        }
      ]
    },
    {
      "cell_type": "markdown",
      "id": "2a16c5fd",
      "metadata": {
        "id": "2a16c5fd"
      },
      "source": [
        "### 4. Write a Python Program To Find ASCII value of a character?"
      ]
    },
    {
      "cell_type": "code",
      "source": [
        "a=input(\"Enter character: \")\n",
        "print(\"ASCII value of character is: \",ord(a))"
      ],
      "metadata": {
        "colab": {
          "base_uri": "https://localhost:8080/"
        },
        "id": "LSSWTs8VpuKo",
        "outputId": "eaace7f8-5daf-427d-fa46-0d607f5de66c"
      },
      "id": "LSSWTs8VpuKo",
      "execution_count": 17,
      "outputs": [
        {
          "output_type": "stream",
          "name": "stdout",
          "text": [
            "Enter character: A\n",
            "ASCII value of character is:  65\n"
          ]
        }
      ]
    },
    {
      "cell_type": "markdown",
      "id": "226778a0",
      "metadata": {
        "id": "226778a0"
      },
      "source": [
        "### 5. Write a Python Program to Make a Simple Calculator with 4 basic mathematical operations?"
      ]
    },
    {
      "cell_type": "code",
      "source": [
        "a = float(input(\"Enter number 1: \"))\n",
        "b = float(input(\"Enter number 2: \"))\n",
        "op = input(\"Enter operation: \")\n",
        "\n",
        "if(op=='+'):\n",
        "  print(a+b)\n",
        "elif (op=='*'):\n",
        "  print(a*b)\n",
        "elif op=='/':\n",
        "  print(a/b)\n",
        "elif op=='-':\n",
        "  print(a-b)"
      ],
      "metadata": {
        "colab": {
          "base_uri": "https://localhost:8080/"
        },
        "id": "NYGgCPN5qxHA",
        "outputId": "13470eb2-4fae-4b52-ad7f-e9612abff103"
      },
      "id": "NYGgCPN5qxHA",
      "execution_count": 18,
      "outputs": [
        {
          "output_type": "stream",
          "name": "stdout",
          "text": [
            "Enter number 1: 4\n",
            "Enter number 2: 5\n",
            "Enter operation: *\n",
            "20.0\n"
          ]
        }
      ]
    }
  ],
  "metadata": {
    "kernelspec": {
      "display_name": "Python 3 (ipykernel)",
      "language": "python",
      "name": "python3"
    },
    "language_info": {
      "codemirror_mode": {
        "name": "ipython",
        "version": 3
      },
      "file_extension": ".py",
      "mimetype": "text/x-python",
      "name": "python",
      "nbconvert_exporter": "python",
      "pygments_lexer": "ipython3",
      "version": "3.9.12"
    },
    "colab": {
      "provenance": []
    }
  },
  "nbformat": 4,
  "nbformat_minor": 5
}